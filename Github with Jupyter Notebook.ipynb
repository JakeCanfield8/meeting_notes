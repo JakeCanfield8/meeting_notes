{
 "cells": [
  {
   "cell_type": "markdown",
   "metadata": {},
   "source": [
    "# Using Github with Jupyter Notebook"
   ]
  },
  {
   "cell_type": "markdown",
   "metadata": {},
   "source": [
    "### Step 1: Clone Repository to Desktop"
   ]
  },
  {
   "cell_type": "markdown",
   "metadata": {},
   "source": [
    "### Step 2: Copy file of interest (.ipynb) into repository folder"
   ]
  },
  {
   "cell_type": "markdown",
   "metadata": {},
   "source": [
    "### Step 3: In terminal git add \"Filename\""
   ]
  },
  {
   "cell_type": "raw",
   "metadata": {},
   "source": [
    "git add 2018-04-26.ipynb"
   ]
  },
  {
   "cell_type": "markdown",
   "metadata": {},
   "source": [
    "### Step 4: git status to verify it was added"
   ]
  },
  {
   "cell_type": "raw",
   "metadata": {},
   "source": [
    "git status"
   ]
  },
  {
   "cell_type": "markdown",
   "metadata": {},
   "source": [
    "### Step 5: git commit -m \"message\""
   ]
  },
  {
   "cell_type": "raw",
   "metadata": {},
   "source": [
    "git commit -m \"added meeting notes from \"2018-04-26\""
   ]
  },
  {
   "cell_type": "markdown",
   "metadata": {},
   "source": [
    "### Step 6: git push"
   ]
  },
  {
   "cell_type": "raw",
   "metadata": {},
   "source": [
    "git push"
   ]
  },
  {
   "cell_type": "markdown",
   "metadata": {},
   "source": [
    "### Step 7: git status to verify it was added to github"
   ]
  },
  {
   "cell_type": "raw",
   "metadata": {},
   "source": [
    "git status"
   ]
  }
 ],
 "metadata": {
  "kernelspec": {
   "display_name": "Python 3",
   "language": "python",
   "name": "python3"
  },
  "language_info": {
   "codemirror_mode": {
    "name": "ipython",
    "version": 3
   },
   "file_extension": ".py",
   "mimetype": "text/x-python",
   "name": "python",
   "nbconvert_exporter": "python",
   "pygments_lexer": "ipython3",
   "version": "3.6.3"
  }
 },
 "nbformat": 4,
 "nbformat_minor": 2
}
